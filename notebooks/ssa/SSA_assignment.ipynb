{
 "cells": [
  {
   "cell_type": "markdown",
   "metadata": {},
   "source": [
    "# Stellar spectra    A. Basic Line Formation  \n",
    "\n",
    "\n",
    "**My Name Goes Here**"
   ]
  },
  {
   "cell_type": "markdown",
   "metadata": {},
   "source": [
    "***Instructions*** *This is the template for submitting SSA. Please update your name or student identifier above. Before you submit, make sure you delete all the markdown cells with text in italic (such as these instructions). Do not delete the questions themselves. Write your answers in the cells below the questions. While only one empty cell appears before the question blocks, feel free to add any quantity of cells (code or Markdown) in the order and quantity you see fit. You can also modify the header below to suit your needs, but please don't use any non-standard packages and do not load external code. The whole notebook must run without any errors in the code. In this first experiment with notebooks, there are no page / text limits. But please write concisely, and try to keep it short!*"
   ]
  },
  {
   "cell_type": "code",
   "execution_count": 1,
   "metadata": {},
   "outputs": [],
   "source": [
    "%matplotlib inline\n",
    "\n",
    "import numpy\n",
    "import matplotlib.pyplot as plt\n",
    "from cycler import cycler\n",
    "from matplotlib import cm\n",
    "from astropy import units\n",
    "from astropy import constants\n",
    "from astropy.visualization import quantity_support\n",
    "from IPython.display import set_matplotlib_formats\n",
    "\n",
    "quantity_support()\n",
    "set_matplotlib_formats('svg')\n",
    "plt.rc('legend', frameon=False)"
   ]
  },
  {
   "cell_type": "markdown",
   "metadata": {},
   "source": [
    "## 1. Saha-Boltzmann calibration of the Harvard sequence (\"Cecilia Payne\")\n",
    "\n",
    "## 1.1 Payne’s line strength diagram\n",
    "\n",
    "## 1.2 The Boltzmann and Saha laws\n",
    "\n",
    "* Inspect the hydrogen energy level diagram in section 1.2. Which transitions correspond to the hydrogen lines in the image with stellar spectrograms (section 1)? Which transitions share lower levels and which share upper levels?\n",
    "\n",
    "* Payne's basic assumption was that the strength of the absorption lines observed in stellar spectra scales with the population density of the lower level of the corresponding transition. Why would she think so? (It is not correct, but generally stellar absorption lines do get stronger at larger lower-level population. In this exercise we follow her example and assume that the scaling is linear.)\n",
    "\n",
    "* Use this expectation to give initial rough estimates of the strength ratios of the $\\alpha$ lines in the the H I Lyman, Balmer, Paschen and Brackett series.\n"
   ]
  },
  {
   "cell_type": "markdown",
   "metadata": {},
   "source": [
    "*Your answers here*"
   ]
  },
  {
   "cell_type": "markdown",
   "metadata": {},
   "source": [
    "* Explain from equations (1) and (3) why the Saha and Boltzmann distributions behave differently for increasing temperature.\n",
    "* Speculate how ionisation can fully deplete a stage while excitation puts only a few atoms in levels just below the ionisation level. Hint: what is the limit of the Saha and Boltzman ratios for infinite temperature?"
   ]
  },
  {
   "cell_type": "markdown",
   "metadata": {},
   "source": [
    "*Your answers here*"
   ]
  },
  {
   "cell_type": "markdown",
   "metadata": {},
   "source": [
    "## 1.3 Saha-Boltzmann populations of a simplified Ca atom\n",
    "\n",
    "### 1.3.1 Partition function \n",
    "\n",
    "### 1.3.2 Compute the level populations according to the Boltzmann law\n",
    "\n",
    "### 1.3.3 Compute the ionisation fractions according to the Saha law\n",
    "\n",
    "### 1.3.4 Put things on an atom class\n",
    "\n",
    "* Using the simplified Ca atom (`Ca_atom.txt`), compute the partition functions $U_r$ for T=5000, 10000, and 20000 K. What can you say about the temperature dependence of $U_r$?\n",
    "\n",
    "* Plot a \"Payne curve\" for the simplified Ca atom using the same temperature range (100 - 175.000 K) and electron pressure (100 Pa)\n",
    "\n",
    "* Make a separate figure with a Payne curve for an element of your choice. You can choose one of the existing model atoms, or you can use the [NIST atomic spectra database](https://physics.nist.gov/PhysRefData/ASD/levels_form.html) to build a model for any atom you'd like. How does it compare with Ca?"
   ]
  },
  {
   "cell_type": "markdown",
   "metadata": {},
   "source": [
    "*Your answers here*"
   ]
  },
  {
   "cell_type": "markdown",
   "metadata": {},
   "source": [
    "## 1.4 Saha-Boltzmann Populations of Hydrogen\n",
    "\n",
    "* Using equations (4) and (5), create a model hydrogen atom with 100 levels and save it to a file with the same format. Compute the partition functions for both `H_atom.txt` and your 100-level model. How do they compare?"
   ]
  },
  {
   "cell_type": "markdown",
   "metadata": {},
   "source": [
    "*Your answer here*"
   ]
  },
  {
   "cell_type": "markdown",
   "metadata": {},
   "source": [
    "## 1.5 Solar Ca$^+$K versus H$\\alpha$: line strength\n",
    "\n",
    "* Explain qualitatively why the solar Ca$^+$ K line is much stronger than the solar H$\\alpha$ line, even though hydrogen is not ionised in the solar photosphere and low chromosphere ($T \\approx$ 4000 - 6000 K) where these lines are formed, and even though the solar Ca/H abundance ratio is only $N_\\mathrm{Ca}/N_\\mathrm{H} = 2 \\times 10^{−6}$. Assume again that the observed line strength scales with the lower-level population density (which it does, although nonlinearly through a \"curve of growth\" as you will see in an exercise below).\n",
    "\n",
    "* Prove your explanation by computing and plotting the expected strength ratio of these two lines as function of temperature for $P_e = 10^2$ dyne cm$^{-2}$. Make use of `H_atom.txt` and `Ca_atom.txt`.\n"
   ]
  },
  {
   "cell_type": "markdown",
   "metadata": {},
   "source": [
    "*Your answers here*"
   ]
  },
  {
   "cell_type": "markdown",
   "metadata": {},
   "source": [
    "## 1.6 Solar Ca$^+$K versus H$\\alpha$: temperature sensitivity\n",
    "\n",
    "* Plotting the relative population changes $(\\Delta n_\\mathrm{Ca} / \\Delta T) / n_\\mathrm{Ca}$ and $(\\Delta n_\\mathrm{H} /  \\Delta T) / n_\\mathrm{H}$ for the lower levels of Ca$^+$K and H$\\alpha$, using $\\Delta T=$ 1 K.\n",
    "\n",
    "* Around $T=$ 5600 K the Ca$^+$K curve dips down to very  small values; the H$\\alpha$ curve does that around $T=$ 9500  K. Thus, for $T \\approx$ 5600 K the temperature sensitivity of Ca$^+$K is much smaller than the temperature sensitivity of H$\\alpha$. Each dip has a $\\Delta n > 0$ and a $\\Delta n < 0$ flank.  Which is which? (The dips can be diagnosed by overplotting the variation with temperature of each population in relative units.) \n",
    "\n",
    "* Explain each flank of the two population curves and the dips in the two temperature sensitivity curves.\n",
    "\n",
    "* Find at which temperature the hydrogen in stellar photospheres with $P_e =$ 10 Pa is about 50% ionised. Plot the neutral and ionised fractions of hydrogen as a function of temperature."
   ]
  },
  {
   "cell_type": "markdown",
   "metadata": {},
   "source": [
    "*Your answers here*"
   ]
  },
  {
   "cell_type": "markdown",
   "metadata": {},
   "source": [
    "## 2. Fraunhofer line strengths and the curve of growth (\"Marcel Minnaert\")\n",
    "\n",
    "    \n",
    "### 2.1 The Planck law\n",
    "\n",
    "* Plot the Planck function $B_\\lambda$ for 100 $< \\lambda <$ 2000 nm for a range of temperatures (5000 to 8000 K). Use a log scale for both the x and y axes. Explain the slopes of the righthand part."
   ]
  },
  {
   "cell_type": "markdown",
   "metadata": {},
   "source": [
    "*Your answers here*"
   ]
  },
  {
   "cell_type": "markdown",
   "metadata": {},
   "source": [
    "### 2.2 Radiation through an isothermal layer\n",
    "\n",
    "* Use equation (11) to calculate the radiation through an isothermal layer. Make plots of $I_\\lambda$ for the different values of $I_\\lambda(0)$, using the following values:\n",
    "\n",
    "``` python\n",
    "b_lambda = 2\n",
    "tau = numpy.logspace(-2, 1, 100)\n",
    "i0 = numpy.arange(5)\n",
    "```\n",
    "    \n",
    "* How does $I_\\lambda$ depend on $\\tau$ for $\\tau \\ll 1$ when $I_\\lambda(0) =0$ (hint: use a log scale in the x and y axes to study the behavior at small $\\tau$)?  And when $I_\\lambda(0) > B_\\lambda$? Such a layer with $\\tau \\ll 1$ is called \"optically thin\", why? Would \"radiatively thin\" be a better name?\n",
    " \n",
    "* A layer is called \"optically thick\" when it has $\\tau \\gg 1$. Why? The emergent intensity becomes independent of $\\tau$ for large $\\tau$. Can you explain why this is so in physical terms? "
   ]
  },
  {
   "cell_type": "markdown",
   "metadata": {},
   "source": [
    "*Your answers here*"
   ]
  },
  {
   "cell_type": "markdown",
   "metadata": {},
   "source": [
    "## 2.3 Spectral lines from a solar reversing layer\n",
    "\n",
    "\n",
    "### 2.3.1 Schuster-Schwarzschild model\n",
    "\n",
    "### 2.3.2 Voigt profile\n",
    "\n",
    "### 2.3.3 Emergent line profiles\n",
    "\n",
    "* Compute and plot the emergent line profiles using a Schuster-Schwarzschild model, using the code provided. Try changing the parameters (`temp_surface`, `temp_layer`, `a`, `tau0`) to see if you can obtain a saturated line profile (flat bottom). Which parameter(s) are more important in determining this?\n",
    "\n",
    "* Make a plot of line profiles with different $\\tau_0$, using `tau0 = 10 ** numpy.linspace(-2, 2, 9)`. How do you explain the profile shapes for $\\tau(0) \\ll 1$? Why is there a low-intensity saturation limit for $\\tau \\gg 1$? Why do the line wings develop only for very large $\\tau(0)$? Where do the wings end? For which values of $\\tau(0)$ is the layer optically thin, respectively optically thick, at line center? And at $u=5$?\n",
    "\n",
    "* Now study the dependence of these line profiles on wavelength by repeating the above for $\\lambda=$ 200 nm (ultraviolet) and $\\lambda=$ 1000 nm (near infrared). What sets the top value $I_{\\rm cont}$ and the limit value reached at line center by $I(0)$? Check these values by computing them directly. What happens to these values at other wavelengths?  \n",
    "\n",
    "* Make a figure with plots for the above: line profiles for several values of $\\tau_0$, and the three different wavelengths (200, 500, and 1000 nm). However, normalise each line profile by its continuum intensity: `intensity /= intensity[0]` (observed spectra are usually normalised this way because absolute calibrations are often missing). Explain the wavelength dependencies in this plot."
   ]
  },
  {
   "cell_type": "markdown",
   "metadata": {},
   "source": [
    "*Your answers here*"
   ]
  },
  {
   "cell_type": "markdown",
   "metadata": {},
   "source": [
    "## 2.4 The equivalent width of spectral lines\n",
    "\n",
    "\n",
    "## 2.5 The curve of growth\n",
    "\n",
    "* Compute and plot a curve of growth by plotting $W_\\lambda$ against $\\tau_0$ on a log-log plot. Explain what happens in the three different parts.  \n",
    "\n",
    "* The first part has slope 1:1, the third part has slope 1:2 in this log-log plot.  Why?\n",
    "\n",
    "* Which parameter controls the location of the onset of the third part? Give a rough estimate of its value for solar iron lines through comparison with the given figure from Wright (1948).\n",
    "\n",
    "* Which parameter should you increase to produce emission lines instead of absorption lines? Change it accordingly and modify the code to produce emission profiles and an emission-line curve of growth. (To avoid taking the log of negative $W_\\lambda$, plot the absolute value of $W_\\lambda$.)"
   ]
  },
  {
   "cell_type": "markdown",
   "metadata": {},
   "source": [
    "*Your answers here*"
   ]
  }
 ],
 "metadata": {
  "kernelspec": {
   "display_name": "Python 3",
   "language": "python",
   "name": "python3"
  },
  "language_info": {
   "codemirror_mode": {
    "name": "ipython",
    "version": 3
   },
   "file_extension": ".py",
   "mimetype": "text/x-python",
   "name": "python",
   "nbconvert_exporter": "python",
   "pygments_lexer": "ipython3",
   "version": "3.7.3"
  }
 },
 "nbformat": 4,
 "nbformat_minor": 4
}
